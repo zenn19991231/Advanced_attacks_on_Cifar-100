{
 "cells": [
  {
   "cell_type": "markdown",
   "metadata": {},
   "source": [
    "# Packages"
   ]
  },
  {
   "cell_type": "code",
   "execution_count": 1,
   "metadata": {},
   "outputs": [
    {
     "name": "stderr",
     "output_type": "stream",
     "text": [
      "/home/adl/anaconda3/envs/ADL/lib/python3.9/site-packages/tqdm/auto.py:21: TqdmWarning: IProgress not found. Please update jupyter and ipywidgets. See https://ipywidgets.readthedocs.io/en/stable/user_install.html\n",
      "  from .autonotebook import tqdm as notebook_tqdm\n"
     ]
    }
   ],
   "source": [
    "import os\n",
    "import sys\n",
    "import torch\n",
    "import torch.nn as nn\n",
    "import torchvision\n",
    "from torch.utils.data import DataLoader\n",
    "from torchvision import transforms\n",
    "sys.path.insert(0, '..')\n",
    "import numpy as np\n",
    "from PIL import Image\n",
    "import os"
   ]
  },
  {
   "cell_type": "markdown",
   "metadata": {},
   "source": [
    "# Load images in Cifar-100 & Eval500 "
   ]
  },
  {
   "cell_type": "code",
   "execution_count": 2,
   "metadata": {},
   "outputs": [
    {
     "name": "stdout",
     "output_type": "stream",
     "text": [
      "Downloading https://www.cs.toronto.edu/~kriz/cifar-100-python.tar.gz to ./data/cifar-100-python.tar.gz\n"
     ]
    },
    {
     "name": "stderr",
     "output_type": "stream",
     "text": [
      "100%|██████████| 169001437/169001437 [00:13<00:00, 12943152.17it/s]\n"
     ]
    },
    {
     "name": "stdout",
     "output_type": "stream",
     "text": [
      "Extracting ./data/cifar-100-python.tar.gz to ./data\n"
     ]
    }
   ],
   "source": [
    "device = \"cuda\"\n",
    "\n",
    "eval500_folder = \"/home/adl/Desktop/zenn/SPML/HW2/eval_200\"\n",
    "\n",
    "transform = transforms.Compose([\n",
    "    transforms.ToTensor(),\n",
    "    transforms.Normalize((0.5, 0.5, 0.5), (0.5, 0.5, 0.5))  \n",
    "])\n",
    "tensor_images = []\n",
    "file_names = []\n",
    "for filename in os.listdir(eval500_folder):\n",
    "    if filename.endswith('.png'):  \n",
    "        image_path = os.path.join(eval500_folder, filename)\n",
    "        image = Image.open(image_path).convert('RGB')  \n",
    "        tensor_image = transform(image).to(device)  \n",
    "        tensor_images.append(tensor_image)  \n",
    "        file_names+=[filename]\n",
    "        \n",
    "cifar100 = torchvision.datasets.CIFAR100(root='./data', train=True, download=True, transform=transform)\n",
    "cifar100loader = DataLoader(cifar100, batch_size=64, shuffle=False)\n"
   ]
  },
  {
   "cell_type": "markdown",
   "metadata": {},
   "source": [
    "# Compare images in Cifar-100 & Eval500 and safe the labels "
   ]
  },
  {
   "cell_type": "code",
   "execution_count": 3,
   "metadata": {},
   "outputs": [],
   "source": [
    "original_images = []\n",
    "original_labels = []\n",
    "for data in cifar100loader:\n",
    "              images, labels = data\n",
    "              images, labels = images.to(device), labels.to(device)  # Move data to the same device as the model)\n",
    "              images.requires_grad = True   \n",
    "              original_images += images\n",
    "              original_labels += labels\n",
    "              \n",
    "eval_labels = []\n",
    "\n",
    "for i in range(len(tensor_images)):\n",
    "    for j in range(0,len(original_images)):\n",
    "        if torch.equal(tensor_images[i],original_images[j]):\n",
    "            eval_labels += [original_labels[j].unsqueeze(0)]"
   ]
  },
  {
   "cell_type": "markdown",
   "metadata": {},
   "source": [
    "## Export the labels"
   ]
  },
  {
   "cell_type": "code",
   "execution_count": 4,
   "metadata": {},
   "outputs": [],
   "source": [
    "eval_labels_save = []\n",
    "for i in range(len(eval_labels)):\n",
    "    eval_labels_save.append(eval_labels[i].cpu().numpy())\n",
    "np.save('labels_200.npy', eval_labels_save)"
   ]
  }
 ],
 "metadata": {
  "kernelspec": {
   "display_name": "zenn",
   "language": "python",
   "name": "python3"
  },
  "language_info": {
   "codemirror_mode": {
    "name": "ipython",
    "version": 3
   },
   "file_extension": ".py",
   "mimetype": "text/x-python",
   "name": "python",
   "nbconvert_exporter": "python",
   "pygments_lexer": "ipython3",
   "version": "3.9.0"
  }
 },
 "nbformat": 4,
 "nbformat_minor": 2
}
